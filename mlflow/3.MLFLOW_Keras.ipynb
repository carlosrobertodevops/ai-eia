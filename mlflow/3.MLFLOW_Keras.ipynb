{
 "cells": [
  {
   "cell_type": "code",
   "execution_count": 13,
   "metadata": {},
   "outputs": [
    {
     "ename": "ImportError",
     "evalue": "cannot import name 'to_categorical' from 'keras' (c:\\ProgramData\\anaconda3\\Lib\\site-packages\\keras\\__init__.py)",
     "output_type": "error",
     "traceback": [
      "\u001b[1;31m---------------------------------------------------------------------------\u001b[0m",
      "\u001b[1;31mImportError\u001b[0m                               Traceback (most recent call last)",
      "Cell \u001b[1;32mIn[13], line 5\u001b[0m\n\u001b[0;32m      2\u001b[0m \u001b[38;5;28;01mfrom\u001b[39;00m \u001b[38;5;21;01mkeras\u001b[39;00m\u001b[38;5;21;01m.\u001b[39;00m\u001b[38;5;21;01mmodels\u001b[39;00m \u001b[38;5;28;01mimport\u001b[39;00m Sequential\n\u001b[0;32m      3\u001b[0m \u001b[38;5;28;01mfrom\u001b[39;00m \u001b[38;5;21;01mkeras\u001b[39;00m\u001b[38;5;21;01m.\u001b[39;00m\u001b[38;5;21;01mlayers\u001b[39;00m \u001b[38;5;28;01mimport\u001b[39;00m Dense, Dropout\n\u001b[1;32m----> 5\u001b[0m \u001b[38;5;28;01mfrom\u001b[39;00m \u001b[38;5;21;01mkeras\u001b[39;00m \u001b[38;5;28;01mimport\u001b[39;00m to_categorical\n\u001b[0;32m      6\u001b[0m \u001b[38;5;28;01mimport\u001b[39;00m \u001b[38;5;21;01mnumpy\u001b[39;00m \u001b[38;5;28;01mas\u001b[39;00m \u001b[38;5;21;01mnp\u001b[39;00m\n\u001b[0;32m      8\u001b[0m \u001b[38;5;28;01mfrom\u001b[39;00m \u001b[38;5;21;01msklearn\u001b[39;00m\u001b[38;5;21;01m.\u001b[39;00m\u001b[38;5;21;01mmetrics\u001b[39;00m \u001b[38;5;28;01mimport\u001b[39;00m confusion_matrix\n",
      "\u001b[1;31mImportError\u001b[0m: cannot import name 'to_categorical' from 'keras' (c:\\ProgramData\\anaconda3\\Lib\\site-packages\\keras\\__init__.py)"
     ]
    }
   ],
   "source": [
    "import matplotlib.pyplot as plt\n",
    "from keras.models import Sequential\n",
    "from keras.layers import Dense, Dropout\n",
    "\n",
    "from keras import to_categorical\n",
    "import numpy as np\n",
    "\n",
    "from sklearn.metrics import confusion_matrix\n",
    "from keras.datasets import mnist\n",
    "\n",
    "import mlflow\n",
    "import mlflow.tensorflow\n"
   ]
  },
  {
   "cell_type": "code",
   "execution_count": null,
   "metadata": {},
   "outputs": [
    {
     "ename": "NameError",
     "evalue": "name 'mnist' is not defined",
     "output_type": "error",
     "traceback": [
      "\u001b[1;31m---------------------------------------------------------------------------\u001b[0m",
      "\u001b[1;31mNameError\u001b[0m                                 Traceback (most recent call last)",
      "Cell \u001b[1;32mIn[8], line 1\u001b[0m\n\u001b[1;32m----> 1\u001b[0m (X_treinamento, y_treinamento), (X_teste, y_teste) \u001b[38;5;241m=\u001b[39m \u001b[43mmnist\u001b[49m\u001b[38;5;241m.\u001b[39mload_data()\n\u001b[0;32m      2\u001b[0m plt\u001b[38;5;241m.\u001b[39mimshow(X_treinamento[\u001b[38;5;241m29\u001b[39m], cmap\u001b[38;5;241m=\u001b[39m\u001b[38;5;124m\"\u001b[39m\u001b[38;5;124mgray\u001b[39m\u001b[38;5;124m\"\u001b[39m)\n\u001b[0;32m      3\u001b[0m plt\u001b[38;5;241m.\u001b[39mtitle(y_treinamento[\u001b[38;5;241m29\u001b[39m])\n",
      "\u001b[1;31mNameError\u001b[0m: name 'mnist' is not defined"
     ]
    }
   ],
   "source": [
    "(X_treinamento, y_treinamento), (X_teste, y_teste) = mnist.load_data()\n",
    "plt.imshow(X_treinamento[29], cmap=\"gray\")\n",
    "plt.title(y_treinamento[29])"
   ]
  },
  {
   "cell_type": "code",
   "execution_count": null,
   "metadata": {},
   "outputs": [],
   "source": [
    "X_treinamento = X_treinamento.reshape(\n",
    "    (len(X_treinamento), np.prod(X_treinamento.shape[1:]))\n",
    ")\n",
    "X_teste = X_teste.reshape((len(X_teste), np.prod(X_teste.shape[1:])))"
   ]
  },
  {
   "cell_type": "code",
   "execution_count": null,
   "metadata": {},
   "outputs": [],
   "source": [
    "X_teste[0]"
   ]
  },
  {
   "cell_type": "code",
   "execution_count": null,
   "metadata": {},
   "outputs": [],
   "source": [
    "X_treinamento = X_treinamento.astype(\"float32\")\n",
    "X_teste = X_teste.astype(\"float32\")\n",
    "X_treinamento /= 255\n",
    "X_teste /= 255"
   ]
  },
  {
   "cell_type": "code",
   "execution_count": null,
   "metadata": {},
   "outputs": [],
   "source": [
    "y_treinamento = to_categorical(y_treinamento, 10)\n",
    "y_teste = to_categorical(y_teste, 10)"
   ]
  },
  {
   "cell_type": "code",
   "execution_count": null,
   "metadata": {},
   "outputs": [],
   "source": [
    "y_teste[0]"
   ]
  },
  {
   "cell_type": "code",
   "execution_count": null,
   "metadata": {},
   "outputs": [],
   "source": [
    "def treina_dl(n_camadas_ocultas, n_units, activation, drop_out, epochs):\n",
    "    mlflow.set_experiment(\"DLExperimento\")\n",
    "\n",
    "    with mlflow.start_run():\n",
    "        mlflow.tensorflow.autolog()\n",
    "\n",
    "        # registro de tags\n",
    "        mlflow.set_tag(\"n_camadas_ocultas\", n_camadas_ocultas)\n",
    "        mlflow.set_tag(\"n_units\", n_units)\n",
    "        mlflow.set_tag(\"activation\", activation)\n",
    "        mlflow.set_tag(\"drop_out\", drop_out)\n",
    "        mlflow.set_tag(\"epochs\", epochs)\n",
    "\n",
    "        modelo = Sequential()\n",
    "\n",
    "        # cria camada oculta mais camada de entrada\n",
    "        modelo.add(Dense(units=n_units, activation=activation, input_dim=784))\n",
    "        modelo.add(Dropout(drop_out))\n",
    "\n",
    "        # camadas ocultas adicionais, com drop out\n",
    "        for n in range(n_camadas_ocultas):\n",
    "            modelo.add(Dense(units=n_units, activation=activation))\n",
    "            modelo.add(Dropout(drop_out))\n",
    "\n",
    "        # camada de saída\n",
    "        modelo.add(Dense(units=10, activation=\"softmax\"))\n",
    "\n",
    "        modelo.compile(\n",
    "            optimizer=\"adam\", loss=\"categorical_crossentropy\", metrics=[\"accuracy\"]\n",
    "        )\n",
    "\n",
    "        modelo.summary()\n",
    "\n",
    "        historico = modelo.fit(\n",
    "            X_treinamento,\n",
    "            y_treinamento,\n",
    "            epochs=epochs,\n",
    "            validation_data=(X_teste, y_teste),\n",
    "        )\n",
    "\n",
    "        # grafico para erros e acuracia\n",
    "        historico.history.keys()\n",
    "        loss = plt.plot(historico.history[\"val_loss\"])\n",
    "        plt.savefig(\"loss.png\")\n",
    "        acuracia = plt.plot(historico.history[\"val_accuracy\"])\n",
    "        plt.savefig(\"acuracia.png\")\n",
    "\n",
    "        # registrar artefatos\n",
    "        mlflow.log_artifact(\"loss.png\")\n",
    "        mlflow.log_artifact(\"acuracia.png\")\n",
    "\n",
    "        # informações de execução\n",
    "        print(\"Modelo: \", mlflow.active_run().info.run_uuid)\n",
    "    mlflow.end_run()"
   ]
  },
  {
   "cell_type": "code",
   "execution_count": null,
   "metadata": {},
   "outputs": [],
   "source": [
    "n_camadas_ocultas = [1, 2, 3]\n",
    "n_units = [16, 32, 64]\n",
    "activation = [\"relu\", \"tanh\"]\n",
    "drop_out = [0.1, 0.2]\n",
    "epochs = [5, 10, 20]\n",
    "\n",
    "for camadas in n_camadas_ocultas:\n",
    "    for unidades in n_units:\n",
    "        for ativacao in activation:\n",
    "            for drop in drop_out:\n",
    "                for epocas in epochs:\n",
    "                    treina_dl(camadas, unidades, ativacao, drop, epocas)"
   ]
  },
  {
   "cell_type": "code",
   "execution_count": null,
   "metadata": {},
   "outputs": [],
   "source": []
  }
 ],
 "metadata": {
  "kernelspec": {
   "display_name": "Python 3",
   "language": "python",
   "name": "python3"
  },
  "language_info": {
   "codemirror_mode": {
    "name": "ipython",
    "version": 3
   },
   "file_extension": ".py",
   "mimetype": "text/x-python",
   "name": "python",
   "nbconvert_exporter": "python",
   "pygments_lexer": "ipython3",
   "version": "3.11.7"
  }
 },
 "nbformat": 4,
 "nbformat_minor": 4
}
