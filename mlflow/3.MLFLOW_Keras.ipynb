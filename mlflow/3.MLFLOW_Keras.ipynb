{
 "cells": [
  {
   "cell_type": "code",
   "execution_count": 43,
   "metadata": {},
   "outputs": [
    {
     "name": "stdout",
     "output_type": "stream",
     "text": [
      "Requirement already satisfied: np_utils in c:\\programdata\\anaconda3\\lib\\site-packages (0.6.0)\n",
      "Requirement already satisfied: numpy>=1.0 in c:\\programdata\\anaconda3\\lib\\site-packages (from np_utils) (1.25.2)\n"
     ]
    }
   ],
   "source": [
    "#! pip install --upgrade keras tensorflow\n",
    "\n",
    "! pip install np_utils\n"
   ]
  },
  {
   "cell_type": "code",
   "execution_count": 44,
   "metadata": {},
   "outputs": [],
   "source": [
    "import matplotlib.pyplot as plt\n",
    "from keras.models import Sequential\n",
    "from keras.layers import Dense, Dropout\n",
    "\n",
    "from tensorflow.keras.utils import to_categorical\n",
    "import numpy as np\n",
    "\n",
    "from sklearn.metrics import confusion_matrix\n",
    "from keras.datasets import mnist\n",
    "\n",
    "import mlflow\n",
    "import mlflow.tensorflow\n"
   ]
  },
  {
   "cell_type": "code",
   "execution_count": 45,
   "metadata": {},
   "outputs": [
    {
     "data": {
      "text/plain": [
       "Text(0.5, 1.0, '7')"
      ]
     },
     "execution_count": 45,
     "metadata": {},
     "output_type": "execute_result"
    },
    {
     "data": {
      "image/png": "[encoded data removed]",
      "text/plain": [
       "<Figure size 640x480 with 1 Axes>"
      ]
     },
     "metadata": {},
     "output_type": "display_data"
    }
   ],
   "source": [
    "(X_treinamento, y_treinamento), (X_teste, y_teste) = mnist.load_data()\n",
    "plt.imshow(X_treinamento[29], cmap=\"gray\")\n",
    "plt.title(y_treinamento[29])"
   ]
  },
  {
   "cell_type": "code",
   "execution_count": 46,
   "metadata": {},
   "outputs": [],
   "source": [
    "X_treinamento = X_treinamento.reshape(\n",
    "    (len(X_treinamento), np.prod(X_treinamento.shape[1:]))\n",
    ")\n",
    "X_teste = X_teste.reshape((len(X_teste), np.prod(X_teste.shape[1:])))"
   ]
  },
  {
   "cell_type": "code",
   "execution_count": 47,
   "metadata": {},
   "outputs": [
    {
     "data": {
      "text/plain": [
       "array([  0,   0,   0,   0,   0,   0,   0,   0,   0,   0,   0,   0,   0,\n",
       "         0,   0,   0,   0,   0,   0,   0,   0,   0,   0,   0,   0,   0,\n",
       "         0,   0,   0,   0,   0,   0,   0,   0,   0,   0,   0,   0,   0,\n",
       "         0,   0,   0,   0,   0,   0,   0,   0,   0,   0,   0,   0,   0,\n",
       "         0,   0,   0,   0,   0,   0,   0,   0,   0,   0,   0,   0,   0,\n",
       "         0,   0,   0,   0,   0,   0,   0,   0,   0,   0,   0,   0,   0,\n",
       "         0,   0,   0,   0,   0,   0,   0,   0,   0,   0,   0,   0,   0,\n",
       "         0,   0,   0,   0,   0,   0,   0,   0,   0,   0,   0,   0,   0,\n",
       "         0,   0,   0,   0,   0,   0,   0,   0,   0,   0,   0,   0,   0,\n",
       "         0,   0,   0,   0,   0,   0,   0,   0,   0,   0,   0,   0,   0,\n",
       "         0,   0,   0,   0,   0,   0,   0,   0,   0,   0,   0,   0,   0,\n",
       "         0,   0,   0,   0,   0,   0,   0,   0,   0,   0,   0,   0,   0,\n",
       "         0,   0,   0,   0,   0,   0,   0,   0,   0,   0,   0,   0,   0,\n",
       "         0,   0,   0,   0,   0,   0,   0,   0,   0,   0,   0,   0,   0,\n",
       "         0,   0,   0,   0,   0,   0,   0,   0,   0,   0,   0,   0,   0,\n",
       "         0,   0,   0,   0,   0,   0,   0,  84, 185, 159, 151,  60,  36,\n",
       "         0,   0,   0,   0,   0,   0,   0,   0,   0,   0,   0,   0,   0,\n",
       "         0,   0,   0,   0,   0,   0,   0,   0,   0, 222, 254, 254, 254,\n",
       "       254, 241, 198, 198, 198, 198, 198, 198, 198, 198, 170,  52,   0,\n",
       "         0,   0,   0,   0,   0,   0,   0,   0,   0,   0,   0,  67, 114,\n",
       "        72, 114, 163, 227, 254, 225, 254, 254, 254, 250, 229, 254, 254,\n",
       "       140,   0,   0,   0,   0,   0,   0,   0,   0,   0,   0,   0,   0,\n",
       "         0,   0,   0,   0,   0,  17,  66,  14,  67,  67,  67,  59,  21,\n",
       "       236, 254, 106,   0,   0,   0,   0,   0,   0,   0,   0,   0,   0,\n",
       "         0,   0,   0,   0,   0,   0,   0,   0,   0,   0,   0,   0,   0,\n",
       "         0,  83, 253, 209,  18,   0,   0,   0,   0,   0,   0,   0,   0,\n",
       "         0,   0,   0,   0,   0,   0,   0,   0,   0,   0,   0,   0,   0,\n",
       "         0,   0,  22, 233, 255,  83,   0,   0,   0,   0,   0,   0,   0,\n",
       "         0,   0,   0,   0,   0,   0,   0,   0,   0,   0,   0,   0,   0,\n",
       "         0,   0,   0,   0, 129, 254, 238,  44,   0,   0,   0,   0,   0,\n",
       "         0,   0,   0,   0,   0,   0,   0,   0,   0,   0,   0,   0,   0,\n",
       "         0,   0,   0,   0,   0,  59, 249, 254,  62,   0,   0,   0,   0,\n",
       "         0,   0,   0,   0,   0,   0,   0,   0,   0,   0,   0,   0,   0,\n",
       "         0,   0,   0,   0,   0,   0,   0, 133, 254, 187,   5,   0,   0,\n",
       "         0,   0,   0,   0,   0,   0,   0,   0,   0,   0,   0,   0,   0,\n",
       "         0,   0,   0,   0,   0,   0,   0,   0,   9, 205, 248,  58,   0,\n",
       "         0,   0,   0,   0,   0,   0,   0,   0,   0,   0,   0,   0,   0,\n",
       "         0,   0,   0,   0,   0,   0,   0,   0,   0,   0, 126, 254, 182,\n",
       "         0,   0,   0,   0,   0,   0,   0,   0,   0,   0,   0,   0,   0,\n",
       "         0,   0,   0,   0,   0,   0,   0,   0,   0,   0,   0,  75, 251,\n",
       "       240,  57,   0,   0,   0,   0,   0,   0,   0,   0,   0,   0,   0,\n",
       "         0,   0,   0,   0,   0,   0,   0,   0,   0,   0,   0,   0,  19,\n",
       "       221, 254, 166,   0,   0,   0,   0,   0,   0,   0,   0,   0,   0,\n",
       "         0,   0,   0,   0,   0,   0,   0,   0,   0,   0,   0,   0,   0,\n",
       "         3, 203, 254, 219,  35,   0,   0,   0,   0,   0,   0,   0,   0,\n",
       "         0,   0,   0,   0,   0,   0,   0,   0,   0,   0,   0,   0,   0,\n",
       "         0,   0,  38, 254, 254,  77,   0,   0,   0,   0,   0,   0,   0,\n",
       "         0,   0,   0,   0,   0,   0,   0,   0,   0,   0,   0,   0,   0,\n",
       "         0,   0,   0,  31, 224, 254, 115,   1,   0,   0,   0,   0,   0,\n",
       "         0,   0,   0,   0,   0,   0,   0,   0,   0,   0,   0,   0,   0,\n",
       "         0,   0,   0,   0,   0, 133, 254, 254,  52,   0,   0,   0,   0,\n",
       "         0,   0,   0,   0,   0,   0,   0,   0,   0,   0,   0,   0,   0,\n",
       "         0,   0,   0,   0,   0,   0,  61, 242, 254, 254,  52,   0,   0,\n",
       "         0,   0,   0,   0,   0,   0,   0,   0,   0,   0,   0,   0,   0,\n",
       "         0,   0,   0,   0,   0,   0,   0,   0, 121, 254, 254, 219,  40,\n",
       "         0,   0,   0,   0,   0,   0,   0,   0,   0,   0,   0,   0,   0,\n",
       "         0,   0,   0,   0,   0,   0,   0,   0,   0,   0, 121, 254, 207,\n",
       "        18,   0,   0,   0,   0,   0,   0,   0,   0,   0,   0,   0,   0,\n",
       "         0,   0,   0,   0,   0,   0,   0,   0,   0,   0,   0,   0,   0,\n",
       "         0,   0,   0,   0,   0,   0,   0,   0,   0,   0,   0,   0,   0,\n",
       "         0,   0,   0,   0], dtype=uint8)"
      ]
     },
     "execution_count": 47,
     "metadata": {},
     "output_type": "execute_result"
    }
   ],
   "source": [
    "X_teste[0]"
   ]
  },
  {
   "cell_type": "code",
   "execution_count": 48,
   "metadata": {},
   "outputs": [],
   "source": [
    "X_treinamento = X_treinamento.astype(\"float32\")\n",
    "X_teste = X_teste.astype(\"float32\")\n",
    "X_treinamento /= 255\n",
    "X_teste /= 255"
   ]
  },
  {
   "cell_type": "code",
   "execution_count": 49,
   "metadata": {},
   "outputs": [],
   "source": [
    "y_treinamento = to_categorical(y_treinamento, 10)\n",
    "y_teste = to_categorical(y_teste, 10)"
   ]
  },
  {
   "cell_type": "code",
   "execution_count": 50,
   "metadata": {},
   "outputs": [
    {
     "data": {
      "text/plain": [
       "array([0., 0., 0., 0., 0., 0., 0., 1., 0., 0.], dtype=float32)"
      ]
     },
     "execution_count": 50,
     "metadata": {},
     "output_type": "execute_result"
    }
   ],
   "source": [
    "y_teste[0]"
   ]
  },
  {
   "cell_type": "code",
   "execution_count": 51,
   "metadata": {},
   "outputs": [],
   "source": [
    "def treina_dl(n_camadas_ocultas, n_units, activation, drop_out, epochs):\n",
    "    mlflow.set_experiment(\"DLExperimento\")\n",
    "\n",
    "    with mlflow.start_run():\n",
    "        mlflow.tensorflow.autolog()\n",
    "\n",
    "        # registro de tags\n",
    "        mlflow.set_tag(\"n_camadas_ocultas\", n_camadas_ocultas)\n",
    "        mlflow.set_tag(\"n_units\", n_units)\n",
    "        mlflow.set_tag(\"activation\", activation)\n",
    "        mlflow.set_tag(\"drop_out\", drop_out)\n",
    "        mlflow.set_tag(\"epochs\", epochs)\n",
    "\n",
    "        modelo = Sequential()\n",
    "\n",
    "        # cria camada oculta mais camada de entrada\n",
    "        modelo.add(Dense(units=n_units, activation=activation, input_dim=784))\n",
    "        modelo.add(Dropout(drop_out))\n",
    "\n",
    "        # camadas ocultas adicionais, com drop out\n",
    "        for n in range(n_camadas_ocultas):\n",
    "            modelo.add(Dense(units=n_units, activation=activation))\n",
    "            modelo.add(Dropout(drop_out))\n",
    "\n",
    "        # camada de saída\n",
    "        modelo.add(Dense(units=10, activation=\"softmax\"))\n",
    "\n",
    "        modelo.compile(\n",
    "            optimizer=\"adam\", loss=\"categorical_crossentropy\", metrics=[\"accuracy\"]\n",
    "        )\n",
    "\n",
    "        modelo.summary()\n",
    "\n",
    "        historico = modelo.fit(\n",
    "            X_treinamento,\n",
    "            y_treinamento,\n",
    "            epochs=epochs,\n",
    "            validation_data=(X_teste, y_teste),\n",
    "        )\n",
    "\n",
    "        # grafico para erros e acuracia\n",
    "        historico.history.keys()\n",
    "        loss = plt.plot(historico.history[\"val_loss\"])\n",
    "        plt.savefig(\"loss.png\")\n",
    "        acuracia = plt.plot(historico.history[\"val_accuracy\"])\n",
    "        plt.savefig(\"acuracia.png\")\n",
    "\n",
    "        # registrar artefatos\n",
    "        mlflow.log_artifact(\"loss.png\")\n",
    "        mlflow.log_artifact(\"acuracia.png\")\n",
    "\n",
    "        # informações de execução\n",
    "        print(\"Modelo: \", mlflow.active_run().info.run_uuid)\n",
    "    mlflow.end_run()"
   ]
  },
  {
   "cell_type": "code",
   "execution_count": 52,
   "metadata": {},
   "outputs": [
    {
     "name": "stdout",
     "output_type": "stream",
     "text": [
      "Model: \"sequential_29\"\n",
      "_________________________________________________________________\n",
      " Layer (type)                Output Shape              Param #   \n",
      "=================================================================\n",
      " dense_87 (Dense)            (None, 16)                12560     \n",
      "                                                                 \n",
      " dropout_58 (Dropout)        (None, 16)                0         \n",
      "                                                                 \n",
      " dense_88 (Dense)            (None, 16)                272       \n",
      "                                                                 \n",
      " dropout_59 (Dropout)        (None, 16)                0         \n",
      "                                                                 \n",
      " dense_89 (Dense)            (None, 10)                170       \n",
      "                                                                 \n",
      "=================================================================\n",
      "Total params: 13002 (50.79 KB)\n",
      "Trainable params: 13002 (50.79 KB)\n",
      "Non-trainable params: 0 (0.00 Byte)\n",
      "_________________________________________________________________\n",
      "Epoch 1/5\n",
      "   1/1875 [..............................] - ETA: 16:17 - loss: 2.3168 - accuracy: 0.0312WARNING:tensorflow:Callback method `on_train_batch_end` is slow compared to the batch time (batch time: 0.0014s vs `on_train_batch_end` time: 0.0021s). Check your callbacks.\n"
     ]
    },
    {
     "name": "stderr",
     "output_type": "stream",
     "text": [
      "WARNING:tensorflow:Callback method `on_train_batch_end` is slow compared to the batch time (batch time: 0.0014s vs `on_train_batch_end` time: 0.0021s). Check your callbacks.\n"
     ]
    },
    {
     "name": "stdout",
     "output_type": "stream",
     "text": [
      "1875/1875 [==============================] - 5s 2ms/step - loss: 0.6663 - accuracy: 0.7886 - val_loss: 0.2774 - val_accuracy: 0.9200\n",
      "Epoch 2/5\n",
      "1875/1875 [==============================] - 3s 2ms/step - loss: 0.4051 - accuracy: 0.8752 - val_loss: 0.2215 - val_accuracy: 0.9352\n",
      "Epoch 3/5\n",
      "1875/1875 [==============================] - 3s 2ms/step - loss: 0.3528 - accuracy: 0.8909 - val_loss: 0.2045 - val_accuracy: 0.9387\n",
      "Epoch 4/5\n",
      "1875/1875 [==============================] - 3s 2ms/step - loss: 0.3292 - accuracy: 0.8983 - val_loss: 0.1979 - val_accuracy: 0.9406\n",
      "Epoch 5/5\n",
      "1875/1875 [==============================] - 3s 2ms/step - loss: 0.3096 - accuracy: 0.9047 - val_loss: 0.1807 - val_accuracy: 0.9449\n",
      "1/1 [==============================] - 0s 54ms/step\n",
      "INFO:tensorflow:Assets written to: C:\\Users\\carlo\\AppData\\Local\\Temp\\tmpkpbooa32\\model\\data\\model\\assets\n"
     ]
    },
    {
     "name": "stderr",
     "output_type": "stream",
     "text": [
      "INFO:tensorflow:Assets written to: C:\\Users\\carlo\\AppData\\Local\\Temp\\tmpkpbooa32\\model\\data\\model\\assets\n"
     ]
    },
    {
     "name": "stdout",
     "output_type": "stream",
     "text": [
      "Modelo:  f449afac50234bb5bb9e685db4ee5140\n",
      "Model: \"sequential_30\"\n",
      "_________________________________________________________________\n",
      " Layer (type)                Output Shape              Param #   \n",
      "=================================================================\n",
      " dense_90 (Dense)            (None, 16)                12560     \n",
      "                                                                 \n",
      " dropout_60 (Dropout)        (None, 16)                0         \n",
      "                                                                 \n",
      " dense_91 (Dense)            (None, 16)                272       \n",
      "                                                                 \n",
      " dropout_61 (Dropout)        (None, 16)                0         \n",
      "                                                                 \n",
      " dense_92 (Dense)            (None, 10)                170       \n",
      "                                                                 \n",
      "=================================================================\n",
      "Total params: 13002 (50.79 KB)\n",
      "Trainable params: 13002 (50.79 KB)\n",
      "Non-trainable params: 0 (0.00 Byte)\n",
      "_________________________________________________________________\n",
      "Epoch 1/10\n",
      "   1/1875 [..............................] - ETA: 15:45 - loss: 2.3508 - accuracy: 0.0625WARNING:tensorflow:Callback method `on_train_batch_end` is slow compared to the batch time (batch time: 0.0009s vs `on_train_batch_end` time: 0.0018s). Check your callbacks.\n"
     ]
    },
    {
     "name": "stderr",
     "output_type": "stream",
     "text": [
      "WARNING:tensorflow:Callback method `on_train_batch_end` is slow compared to the batch time (batch time: 0.0009s vs `on_train_batch_end` time: 0.0018s). Check your callbacks.\n"
     ]
    },
    {
     "name": "stdout",
     "output_type": "stream",
     "text": [
      "1875/1875 [==============================] - 4s 2ms/step - loss: 0.7035 - accuracy: 0.7733 - val_loss: 0.2862 - val_accuracy: 0.9185\n",
      "Epoch 2/10\n",
      "1875/1875 [==============================] - 3s 2ms/step - loss: 0.4071 - accuracy: 0.8736 - val_loss: 0.2375 - val_accuracy: 0.9289\n",
      "Epoch 3/10\n",
      "1875/1875 [==============================] - 3s 2ms/step - loss: 0.3594 - accuracy: 0.8881 - val_loss: 0.2178 - val_accuracy: 0.9344\n",
      "Epoch 4/10\n",
      "1875/1875 [==============================] - 3s 2ms/step - loss: 0.3280 - accuracy: 0.8987 - val_loss: 0.2093 - val_accuracy: 0.9388\n",
      "Epoch 5/10\n",
      "1875/1875 [==============================] - 3s 2ms/step - loss: 0.3113 - accuracy: 0.9040 - val_loss: 0.1928 - val_accuracy: 0.9424\n",
      "Epoch 6/10\n",
      "1875/1875 [==============================] - 3s 1ms/step - loss: 0.2996 - accuracy: 0.9082 - val_loss: 0.1867 - val_accuracy: 0.9428\n",
      "Epoch 7/10\n",
      "1875/1875 [==============================] - 3s 1ms/step - loss: 0.2857 - accuracy: 0.9132 - val_loss: 0.1850 - val_accuracy: 0.9441\n",
      "Epoch 8/10\n",
      "1875/1875 [==============================] - 2s 1ms/step - loss: 0.2817 - accuracy: 0.9145 - val_loss: 0.1872 - val_accuracy: 0.9449\n",
      "Epoch 9/10\n",
      "1875/1875 [==============================] - 2s 1ms/step - loss: 0.2747 - accuracy: 0.9168 - val_loss: 0.1784 - val_accuracy: 0.9465\n",
      "Epoch 10/10\n",
      "1875/1875 [==============================] - 2s 1ms/step - loss: 0.2727 - accuracy: 0.9162 - val_loss: 0.1822 - val_accuracy: 0.9460\n",
      "1/1 [==============================] - 0s 45ms/step\n",
      "INFO:tensorflow:Assets written to: C:\\Users\\carlo\\AppData\\Local\\Temp\\tmphaa4q7fs\\model\\data\\model\\assets\n"
     ]
    },
    {
     "name": "stderr",
     "output_type": "stream",
     "text": [
      "INFO:tensorflow:Assets written to: C:\\Users\\carlo\\AppData\\Local\\Temp\\tmphaa4q7fs\\model\\data\\model\\assets\n"
     ]
    },
    {
     "name": "stdout",
     "output_type": "stream",
     "text": [
      "Modelo:  50f893f11d2a4258bb410b536ac479f5\n",
      "Model: \"sequential_31\"\n",
      "_________________________________________________________________\n",
      " Layer (type)                Output Shape              Param #   \n",
      "=================================================================\n",
      " dense_93 (Dense)            (None, 16)                12560     \n",
      "                                                                 \n",
      " dropout_62 (Dropout)        (None, 16)                0         \n",
      "                                                                 \n",
      " dense_94 (Dense)            (None, 16)                272       \n",
      "                                                                 \n",
      " dropout_63 (Dropout)        (None, 16)                0         \n",
      "                                                                 \n",
      " dense_95 (Dense)            (None, 10)                170       \n",
      "                                                                 \n",
      "=================================================================\n",
      "Total params: 13002 (50.79 KB)\n",
      "Trainable params: 13002 (50.79 KB)\n",
      "Non-trainable params: 0 (0.00 Byte)\n",
      "_________________________________________________________________\n",
      "Epoch 1/20\n",
      "   1/1875 [..............................] - ETA: 17:30 - loss: 2.3290 - accuracy: 0.1250WARNING:tensorflow:Callback method `on_train_batch_end` is slow compared to the batch time (batch time: 0.0009s vs `on_train_batch_end` time: 0.0018s). Check your callbacks.\n"
     ]
    },
    {
     "name": "stderr",
     "output_type": "stream",
     "text": [
      "WARNING:tensorflow:Callback method `on_train_batch_end` is slow compared to the batch time (batch time: 0.0009s vs `on_train_batch_end` time: 0.0018s). Check your callbacks.\n"
     ]
    },
    {
     "name": "stdout",
     "output_type": "stream",
     "text": [
      "1875/1875 [==============================] - 4s 2ms/step - loss: 0.7483 - accuracy: 0.7599 - val_loss: 0.3190 - val_accuracy: 0.9083\n",
      "Epoch 2/20\n",
      "1875/1875 [==============================] - 3s 2ms/step - loss: 0.4601 - accuracy: 0.8579 - val_loss: 0.2791 - val_accuracy: 0.9193\n",
      "Epoch 3/20\n",
      "1875/1875 [==============================] - 3s 1ms/step - loss: 0.4008 - accuracy: 0.8780 - val_loss: 0.2542 - val_accuracy: 0.9250\n",
      "Epoch 4/20\n",
      "1875/1875 [==============================] - 3s 2ms/step - loss: 0.3714 - accuracy: 0.8867 - val_loss: 0.2319 - val_accuracy: 0.9316\n",
      "Epoch 5/20\n",
      "1875/1875 [==============================] - 3s 2ms/step - loss: 0.3538 - accuracy: 0.8929 - val_loss: 0.2305 - val_accuracy: 0.9345\n",
      "Epoch 6/20\n",
      "1875/1875 [==============================] - 3s 1ms/step - loss: 0.3434 - accuracy: 0.8967 - val_loss: 0.2297 - val_accuracy: 0.9315\n",
      "Epoch 7/20\n",
      "1875/1875 [==============================] - 3s 2ms/step - loss: 0.3325 - accuracy: 0.8998 - val_loss: 0.2235 - val_accuracy: 0.9355\n",
      "Epoch 8/20\n",
      "1875/1875 [==============================] - 3s 1ms/step - loss: 0.3273 - accuracy: 0.9008 - val_loss: 0.2195 - val_accuracy: 0.9352\n",
      "Epoch 9/20\n",
      "1875/1875 [==============================] - 3s 2ms/step - loss: 0.3192 - accuracy: 0.9024 - val_loss: 0.2150 - val_accuracy: 0.9401\n",
      "Epoch 10/20\n",
      "1875/1875 [==============================] - 3s 1ms/step - loss: 0.3150 - accuracy: 0.9046 - val_loss: 0.2148 - val_accuracy: 0.9396\n",
      "Epoch 11/20\n",
      "1875/1875 [==============================] - 3s 2ms/step - loss: 0.3147 - accuracy: 0.9030 - val_loss: 0.2192 - val_accuracy: 0.9369\n",
      "Epoch 12/20\n",
      "1875/1875 [==============================] - 3s 2ms/step - loss: 0.3059 - accuracy: 0.9073 - val_loss: 0.2162 - val_accuracy: 0.9379\n",
      "Epoch 13/20\n",
      "1875/1875 [==============================] - 3s 2ms/step - loss: 0.3068 - accuracy: 0.9070 - val_loss: 0.2119 - val_accuracy: 0.9410\n",
      "Epoch 14/20\n",
      "1875/1875 [==============================] - 3s 2ms/step - loss: 0.3008 - accuracy: 0.9100 - val_loss: 0.2105 - val_accuracy: 0.9396\n",
      "Epoch 15/20\n",
      "1875/1875 [==============================] - 3s 2ms/step - loss: 0.2944 - accuracy: 0.9097 - val_loss: 0.2133 - val_accuracy: 0.9381\n",
      "Epoch 16/20\n",
      "1875/1875 [==============================] - 3s 2ms/step - loss: 0.2950 - accuracy: 0.9093 - val_loss: 0.2115 - val_accuracy: 0.9395\n",
      "Epoch 17/20\n",
      "1875/1875 [==============================] - 3s 2ms/step - loss: 0.2920 - accuracy: 0.9115 - val_loss: 0.2116 - val_accuracy: 0.9391\n",
      "Epoch 18/20\n",
      "1875/1875 [==============================] - 3s 2ms/step - loss: 0.2889 - accuracy: 0.9103 - val_loss: 0.2103 - val_accuracy: 0.9383\n",
      "Epoch 19/20\n",
      "1875/1875 [==============================] - 3s 2ms/step - loss: 0.2875 - accuracy: 0.9120 - val_loss: 0.2160 - val_accuracy: 0.9401\n",
      "Epoch 20/20\n",
      "1875/1875 [==============================] - 3s 2ms/step - loss: 0.2877 - accuracy: 0.9118 - val_loss: 0.2166 - val_accuracy: 0.9377\n",
      "1/1 [==============================] - 0s 60ms/step\n",
      "INFO:tensorflow:Assets written to: C:\\Users\\carlo\\AppData\\Local\\Temp\\tmpdli1dkzl\\model\\data\\model\\assets\n"
     ]
    },
    {
     "name": "stderr",
     "output_type": "stream",
     "text": [
      "INFO:tensorflow:Assets written to: C:\\Users\\carlo\\AppData\\Local\\Temp\\tmpdli1dkzl\\model\\data\\model\\assets\n"
     ]
    },
    {
     "name": "stdout",
     "output_type": "stream",
     "text": [
      "Modelo:  d3d8afddd3184a768a8af4c7e753f053\n",
      "Model: \"sequential_32\"\n",
      "_________________________________________________________________\n",
      " Layer (type)                Output Shape              Param #   \n",
      "=================================================================\n",
      " dense_96 (Dense)            (None, 16)                12560     \n",
      "                                                                 \n",
      " dropout_64 (Dropout)        (None, 16)                0         \n",
      "                                                                 \n",
      " dense_97 (Dense)            (None, 16)                272       \n",
      "                                                                 \n",
      " dropout_65 (Dropout)        (None, 16)                0         \n",
      "                                                                 \n",
      " dense_98 (Dense)            (None, 10)                170       \n",
      "                                                                 \n",
      "=================================================================\n",
      "Total params: 13002 (50.79 KB)\n",
      "Trainable params: 13002 (50.79 KB)\n",
      "Non-trainable params: 0 (0.00 Byte)\n",
      "_________________________________________________________________\n",
      "Epoch 1/5\n",
      "   1/1875 [..............................] - ETA: 17:57 - loss: 2.3680 - accuracy: 0.1250WARNING:tensorflow:Callback method `on_train_batch_end` is slow compared to the batch time (batch time: 0.0012s vs `on_train_batch_end` time: 0.0022s). Check your callbacks.\n"
     ]
    },
    {
     "name": "stderr",
     "output_type": "stream",
     "text": [
      "WARNING:tensorflow:Callback method `on_train_batch_end` is slow compared to the batch time (batch time: 0.0012s vs `on_train_batch_end` time: 0.0022s). Check your callbacks.\n"
     ]
    },
    {
     "name": "stdout",
     "output_type": "stream",
     "text": [
      "1875/1875 [==============================] - 4s 2ms/step - loss: 0.8692 - accuracy: 0.7096 - val_loss: 0.3369 - val_accuracy: 0.9008\n",
      "Epoch 2/5\n",
      "1875/1875 [==============================] - 4s 2ms/step - loss: 0.5767 - accuracy: 0.8167 - val_loss: 0.2953 - val_accuracy: 0.9144\n",
      "Epoch 3/5\n",
      "1875/1875 [==============================] - 3s 2ms/step - loss: 0.5234 - accuracy: 0.8361 - val_loss: 0.2652 - val_accuracy: 0.9231\n",
      "Epoch 4/5\n",
      "1875/1875 [==============================] - 3s 2ms/step - loss: 0.4991 - accuracy: 0.8440 - val_loss: 0.2579 - val_accuracy: 0.9243\n",
      "Epoch 5/5\n",
      "1875/1875 [==============================] - 3s 2ms/step - loss: 0.4715 - accuracy: 0.8522 - val_loss: 0.2448 - val_accuracy: 0.9255\n",
      "1/1 [==============================] - 0s 48ms/step\n",
      "INFO:tensorflow:Assets written to: C:\\Users\\carlo\\AppData\\Local\\Temp\\tmpq4zxy_wb\\model\\data\\model\\assets\n"
     ]
    },
    {
     "name": "stderr",
     "output_type": "stream",
     "text": [
      "INFO:tensorflow:Assets written to: C:\\Users\\carlo\\AppData\\Local\\Temp\\tmpq4zxy_wb\\model\\data\\model\\assets\n"
     ]
    },
    {
     "name": "stdout",
     "output_type": "stream",
     "text": [
      "Modelo:  53bb1f5d9faf4207a64c9cb94f2d9f15\n",
      "Model: \"sequential_33\"\n",
      "_________________________________________________________________\n",
      " Layer (type)                Output Shape              Param #   \n",
      "=================================================================\n",
      " dense_99 (Dense)            (None, 16)                12560     \n",
      "                                                                 \n",
      " dropout_66 (Dropout)        (None, 16)                0         \n",
      "                                                                 \n",
      " dense_100 (Dense)           (None, 16)                272       \n",
      "                                                                 \n",
      " dropout_67 (Dropout)        (None, 16)                0         \n",
      "                                                                 \n",
      " dense_101 (Dense)           (None, 10)                170       \n",
      "                                                                 \n",
      "=================================================================\n",
      "Total params: 13002 (50.79 KB)\n",
      "Trainable params: 13002 (50.79 KB)\n",
      "Non-trainable params: 0 (0.00 Byte)\n",
      "_________________________________________________________________\n",
      "Epoch 1/10\n",
      "   1/1875 [..............................] - ETA: 17:44 - loss: 2.3222 - accuracy: 0.0312WARNING:tensorflow:Callback method `on_train_batch_end` is slow compared to the batch time (batch time: 0.0013s vs `on_train_batch_end` time: 0.0019s). Check your callbacks.\n"
     ]
    },
    {
     "name": "stderr",
     "output_type": "stream",
     "text": [
      "WARNING:tensorflow:Callback method `on_train_batch_end` is slow compared to the batch time (batch time: 0.0013s vs `on_train_batch_end` time: 0.0019s). Check your callbacks.\n"
     ]
    },
    {
     "name": "stdout",
     "output_type": "stream",
     "text": [
      "1875/1875 [==============================] - 4s 2ms/step - loss: 0.8874 - accuracy: 0.7028 - val_loss: 0.3277 - val_accuracy: 0.9100\n",
      "Epoch 2/10\n",
      "1875/1875 [==============================] - 3s 1ms/step - loss: 0.5863 - accuracy: 0.8155 - val_loss: 0.2781 - val_accuracy: 0.9174\n",
      "Epoch 3/10\n",
      "1875/1875 [==============================] - 3s 2ms/step - loss: 0.5324 - accuracy: 0.8354 - val_loss: 0.2660 - val_accuracy: 0.9220\n",
      "Epoch 4/10\n",
      "1875/1875 [==============================] - 4s 2ms/step - loss: 0.5012 - accuracy: 0.8438 - val_loss: 0.2435 - val_accuracy: 0.9296\n",
      "Epoch 5/10\n",
      "1875/1875 [==============================] - 3s 2ms/step - loss: 0.4878 - accuracy: 0.8496 - val_loss: 0.2460 - val_accuracy: 0.9293\n",
      "Epoch 6/10\n",
      "1875/1875 [==============================] - 3s 2ms/step - loss: 0.4754 - accuracy: 0.8536 - val_loss: 0.2342 - val_accuracy: 0.9296\n",
      "Epoch 7/10\n",
      "1875/1875 [==============================] - 3s 2ms/step - loss: 0.4595 - accuracy: 0.8598 - val_loss: 0.2343 - val_accuracy: 0.9330\n",
      "Epoch 8/10\n",
      "1875/1875 [==============================] - 3s 2ms/step - loss: 0.4513 - accuracy: 0.8619 - val_loss: 0.2341 - val_accuracy: 0.9339\n",
      "Epoch 9/10\n",
      "1875/1875 [==============================] - 3s 2ms/step - loss: 0.4497 - accuracy: 0.8638 - val_loss: 0.2283 - val_accuracy: 0.9337\n",
      "Epoch 10/10\n",
      "1875/1875 [==============================] - 3s 1ms/step - loss: 0.4441 - accuracy: 0.8653 - val_loss: 0.2197 - val_accuracy: 0.9371\n",
      "1/1 [==============================] - 0s 40ms/step\n",
      "INFO:tensorflow:Assets written to: C:\\Users\\carlo\\AppData\\Local\\Temp\\tmp6m92td2d\\model\\data\\model\\assets\n"
     ]
    },
    {
     "name": "stderr",
     "output_type": "stream",
     "text": [
      "INFO:tensorflow:Assets written to: C:\\Users\\carlo\\AppData\\Local\\Temp\\tmp6m92td2d\\model\\data\\model\\assets\n"
     ]
    },
    {
     "name": "stdout",
     "output_type": "stream",
     "text": [
      "Modelo:  515af71e3a544496a3c8c6948290a118\n",
      "Model: \"sequential_34\"\n",
      "_________________________________________________________________\n",
      " Layer (type)                Output Shape              Param #   \n",
      "=================================================================\n",
      " dense_102 (Dense)           (None, 16)                12560     \n",
      "                                                                 \n",
      " dropout_68 (Dropout)        (None, 16)                0         \n",
      "                                                                 \n",
      " dense_103 (Dense)           (None, 16)                272       \n",
      "                                                                 \n",
      " dropout_69 (Dropout)        (None, 16)                0         \n",
      "                                                                 \n",
      " dense_104 (Dense)           (None, 10)                170       \n",
      "                                                                 \n",
      "=================================================================\n",
      "Total params: 13002 (50.79 KB)\n",
      "Trainable params: 13002 (50.79 KB)\n",
      "Non-trainable params: 0 (0.00 Byte)\n",
      "_________________________________________________________________\n",
      "Epoch 1/20\n",
      "   1/1875 [..............................] - ETA: 16:39 - loss: 2.3373 - accuracy: 0.0625WARNING:tensorflow:Callback method `on_train_batch_end` is slow compared to the batch time (batch time: 0.0010s vs `on_train_batch_end` time: 0.0023s). Check your callbacks.\n"
     ]
    },
    {
     "name": "stderr",
     "output_type": "stream",
     "text": [
      "WARNING:tensorflow:Callback method `on_train_batch_end` is slow compared to the batch time (batch time: 0.0010s vs `on_train_batch_end` time: 0.0023s). Check your callbacks.\n"
     ]
    },
    {
     "name": "stdout",
     "output_type": "stream",
     "text": [
      "1875/1875 [==============================] - 4s 2ms/step - loss: 0.8981 - accuracy: 0.6998 - val_loss: 0.3451 - val_accuracy: 0.9054\n",
      "Epoch 2/20\n",
      "1875/1875 [==============================] - 3s 2ms/step - loss: 0.5924 - accuracy: 0.8114 - val_loss: 0.2721 - val_accuracy: 0.9207\n",
      "Epoch 3/20\n",
      "1875/1875 [==============================] - 3s 1ms/step - loss: 0.5286 - accuracy: 0.8348 - val_loss: 0.2543 - val_accuracy: 0.9278\n",
      "Epoch 4/20\n",
      "1875/1875 [==============================] - 3s 2ms/step - loss: 0.4973 - accuracy: 0.8456 - val_loss: 0.2424 - val_accuracy: 0.9277\n",
      "Epoch 5/20\n",
      "1875/1875 [==============================] - 3s 2ms/step - loss: 0.4673 - accuracy: 0.8568 - val_loss: 0.2340 - val_accuracy: 0.9314\n",
      "Epoch 6/20\n",
      "1875/1875 [==============================] - 3s 1ms/step - loss: 0.4512 - accuracy: 0.8605 - val_loss: 0.2238 - val_accuracy: 0.9330\n",
      "Epoch 7/20\n",
      "1875/1875 [==============================] - 2s 1ms/step - loss: 0.4404 - accuracy: 0.8645 - val_loss: 0.2243 - val_accuracy: 0.9363\n",
      "Epoch 8/20\n",
      "1875/1875 [==============================] - 2s 1ms/step - loss: 0.4336 - accuracy: 0.8684 - val_loss: 0.2187 - val_accuracy: 0.9343\n",
      "Epoch 9/20\n",
      "1875/1875 [==============================] - 2s 1ms/step - loss: 0.4276 - accuracy: 0.8698 - val_loss: 0.2293 - val_accuracy: 0.9315\n",
      "Epoch 10/20\n",
      "1875/1875 [==============================] - 2s 1ms/step - loss: 0.4169 - accuracy: 0.8716 - val_loss: 0.2159 - val_accuracy: 0.9370\n",
      "Epoch 11/20\n",
      "1875/1875 [==============================] - 2s 1ms/step - loss: 0.4104 - accuracy: 0.8748 - val_loss: 0.2249 - val_accuracy: 0.9363\n",
      "Epoch 12/20\n",
      "1875/1875 [==============================] - 3s 1ms/step - loss: 0.4119 - accuracy: 0.8731 - val_loss: 0.2195 - val_accuracy: 0.9362\n",
      "Epoch 13/20\n",
      "1875/1875 [==============================] - 2s 1ms/step - loss: 0.4101 - accuracy: 0.8748 - val_loss: 0.2176 - val_accuracy: 0.9375\n",
      "Epoch 14/20\n",
      "1875/1875 [==============================] - 2s 1ms/step - loss: 0.4048 - accuracy: 0.8758 - val_loss: 0.2212 - val_accuracy: 0.9369\n",
      "Epoch 15/20\n",
      "1875/1875 [==============================] - 2s 1ms/step - loss: 0.4007 - accuracy: 0.8772 - val_loss: 0.2164 - val_accuracy: 0.9395\n",
      "Epoch 16/20\n",
      "1875/1875 [==============================] - 2s 1ms/step - loss: 0.4007 - accuracy: 0.8786 - val_loss: 0.2138 - val_accuracy: 0.9403\n",
      "Epoch 17/20\n",
      "1875/1875 [==============================] - 2s 1ms/step - loss: 0.3957 - accuracy: 0.8782 - val_loss: 0.2134 - val_accuracy: 0.9391\n",
      "Epoch 18/20\n",
      "1875/1875 [==============================] - 3s 1ms/step - loss: 0.3947 - accuracy: 0.8776 - val_loss: 0.2180 - val_accuracy: 0.9381\n",
      "Epoch 19/20\n",
      "1875/1875 [==============================] - 2s 1ms/step - loss: 0.3904 - accuracy: 0.8805 - val_loss: 0.2192 - val_accuracy: 0.9395\n",
      "Epoch 20/20\n",
      "1875/1875 [==============================] - 2s 1ms/step - loss: 0.3916 - accuracy: 0.8814 - val_loss: 0.2175 - val_accuracy: 0.9403\n",
      "1/1 [==============================] - 0s 40ms/step\n",
      "INFO:tensorflow:Assets written to: C:\\Users\\carlo\\AppData\\Local\\Temp\\tmphe1b0jov\\model\\data\\model\\assets\n"
     ]
    },
    {
     "name": "stderr",
     "output_type": "stream",
     "text": [
      "INFO:tensorflow:Assets written to: C:\\Users\\carlo\\AppData\\Local\\Temp\\tmphe1b0jov\\model\\data\\model\\assets\n"
     ]
    }
   ],
   "source": [
    "n_camadas_ocultas = [1, 2, 3]\n",
    "n_units = [16, 32, 64]\n",
    "activation = [\"relu\", \"tanh\"]\n",
    "drop_out = [0.1, 0.2]\n",
    "epochs = [5, 10, 20]\n",
    "\n",
    "for camadas in n_camadas_ocultas:\n",
    "    for unidades in n_units:\n",
    "        for ativacao in activation:\n",
    "            for drop in drop_out:\n",
    "                for epocas in epochs:\n",
    "                    treina_dl(camadas, unidades, ativacao, drop, epocas)"
   ]
  },
  {
   "cell_type": "code",
   "execution_count": null,
   "metadata": {},
   "outputs": [],
   "source": []
  }
 ],
 "metadata": {
  "kernelspec": {
   "display_name": "Python 3",
   "language": "python",
   "name": "python3"
  },
  "language_info": {
   "codemirror_mode": {
    "name": "ipython",
    "version": 3
   },
   "file_extension": ".py",
   "mimetype": "text/x-python",
   "name": "python",
   "nbconvert_exporter": "python",
   "pygments_lexer": "ipython3",
   "version": "3.11.7"
  }
 },
 "nbformat": 4,
 "nbformat_minor": 4
}
